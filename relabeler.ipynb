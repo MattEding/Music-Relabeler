{
 "cells": [
  {
   "cell_type": "code",
   "execution_count": null,
   "metadata": {},
   "outputs": [],
   "source": [
    "import re\n",
    "import string\n",
    "\n",
    "import pandas as pd\n",
    "from pathlib import Path\n",
    "\n",
    "from sklearn.feature_extraction.text import CountVectorizer\n",
    "from sklearn.metrics.pairwise import cosine_similarity"
   ]
  },
  {
   "cell_type": "code",
   "execution_count": null,
   "metadata": {},
   "outputs": [],
   "source": [
    "url = input(\"URL: \")\n",
    "dirs = sorted(d for d in Path.cwd().iterdir() if d.is_dir())\n",
    "\n",
    "count_vec = CountVectorizer(token_pattern='.', ngram_range=(1, 5))\n",
    "X_dirs = count_vec.fit_transform([d.stem for d in dirs])\n",
    "X_link = count_vec.transform([Path(url).stem])\n",
    "idx = cosine_similarity(X_link, X_dirs).argmax()\n",
    "path = dirs[idx]\n",
    "\n",
    "info_df = pd.read_html(url, attrs={\"class\": \"infobox\"})[0]\n",
    "info_df = info_df.set_index(info_df.columns[0]).iloc[:, 0]\n",
    "year = info_df.loc['Released'].split(\", \")[-1].split(' ')[-1]\n",
    "artist = info_df.iloc[1].split('by ')[-1]\n",
    "title = info_df.index.name\n",
    "\n",
    "year, artist, title, path.stem"
   ]
  },
  {
   "cell_type": "code",
   "execution_count": null,
   "metadata": {},
   "outputs": [],
   "source": [
    "def clean_track(text):\n",
    "    pattern = r'(\".+?\")( \\(.+\\))?'\n",
    "    return (re.match(pattern, text)\n",
    "              .group(1)\n",
    "              .strip('\"')\n",
    "              .replace(':', '_')\n",
    "              .replace('/', '_')\n",
    "              .replace('\\\\', '_')\n",
    "              .title())\n",
    "\n",
    "dfs = pd.read_html(url, attrs={\"class\": \"tracklist\"})\n",
    "for i, df in enumerate(dfs):\n",
    "    df.columns = df.columns.get_level_values(-1) # bonus tracks have multi-index column\n",
    "    \n",
    "    last = df.iloc[-1]\n",
    "    if last['No.'] == last['Title']: # some tables include total time row\n",
    "        dfs[i] = df[:-1]\n",
    "\n",
    "tracks_df = (pd.concat(dfs, axis='rows', sort=False)\n",
    "               .reset_index(drop=True)\n",
    "               .loc[:, 'Title']\n",
    "               .map(clean_track))\n",
    "tracks_df.index = tracks_df.index + 1\n",
    "tracks_df"
   ]
  },
  {
   "cell_type": "code",
   "execution_count": null,
   "metadata": {},
   "outputs": [],
   "source": [
    "extensions = ['.mp3', '.m4a', '.flac', '.wav', '.mp4', '.ogg']\n",
    "files = sorted(file for file in path.iterdir() if file.suffix in extensions)\n",
    "names = [file.stem for file in files]\n",
    "\n",
    "count_vec = CountVectorizer(token_pattern='.', ngram_range=(1, 10))\n",
    "\n",
    "X_wiki = count_vec.fit_transform(tracks_df)\n",
    "X_disk = count_vec.transform(names)\n",
    "\n",
    "idxs = cosine_similarity(X_wiki, X_disk).argmax(axis=0)\n",
    "\n",
    "[(i, f.name) for i, f in enumerate(files, start=1)]"
   ]
  },
  {
   "cell_type": "code",
   "execution_count": null,
   "metadata": {},
   "outputs": [],
   "source": [
    "assert len(files) <= len(tracks_df)\n",
    "assert len(files) == len(np.unique(idxs))\n",
    "\n",
    "for file, (track_num, track_name) in zip(files, tracks_df.iloc[idxs].iteritems()):\n",
    "    new_filename = f\"{track_num:0>2} - {artist} - {track_name}{file.suffix}\"\n",
    "    new_file = file.parent / new_filename\n",
    "    file.rename(new_file)\n",
    "\n",
    "new_dirname = f\"[{year}] {artist} - {title.title()}\"\n",
    "new_path = path.parent / new_dirname\n",
    "path.rename(new_path)"
   ]
  },
  {
   "cell_type": "code",
   "execution_count": null,
   "metadata": {},
   "outputs": [],
   "source": []
  }
 ],
 "metadata": {
  "kernelspec": {
   "display_name": "Python 3",
   "language": "python",
   "name": "python3"
  },
  "language_info": {
   "codemirror_mode": {
    "name": "ipython",
    "version": 3
   },
   "file_extension": ".py",
   "mimetype": "text/x-python",
   "name": "python",
   "nbconvert_exporter": "python",
   "pygments_lexer": "ipython3",
   "version": "3.7.4"
  }
 },
 "nbformat": 4,
 "nbformat_minor": 2
}
